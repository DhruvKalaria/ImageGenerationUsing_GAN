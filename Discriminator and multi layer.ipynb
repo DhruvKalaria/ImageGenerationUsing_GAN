{
  "nbformat": 4,
  "nbformat_minor": 0,
  "metadata": {
    "colab": {
      "provenance": []
    },
    "kernelspec": {
      "name": "python3",
      "display_name": "Python 3"
    },
    "language_info": {
      "name": "python"
    }
  },
  "cells": [
    {
      "cell_type": "code",
      "execution_count": 1,
      "metadata": {
        "id": "Xl24cKJ6A5DD"
      },
      "outputs": [],
      "source": [
        "# importing the libraries\n",
        "import torch, torchvision, os, PIL, pdb\n",
        "from torch import nn\n",
        "from torch.utils.data import Dataset\n",
        "from torch.utils.data import DataLoader\n",
        "from torchvision import transforms\n",
        "from torchvision.utils import make_grid\n",
        "from tqdm.auto import tqdm\n",
        "import numpy as np\n",
        "from PIL import Image\n",
        "import matplotlib.pyplot as plt\n",
        "\n",
        "def show(tensor, num=25, wandbactive=0, name=''):\n",
        "  data = tensor.detach().cpu()\n",
        "  grid = make_grid(data[:num], nrow=5).permute(1,2,0)\n",
        "\n",
        "\n",
        "### hyperparameters and general parameters\n",
        "n_epochs=10000\n",
        "batch_size=128\n",
        "lr=1e-4\n",
        "z_dim=200\n",
        "device='cuda' #GPU\n",
        "\n",
        "cur_step=0\n",
        "crit_cycles=5\n",
        "gen_losses=[]\n",
        "crit_losses=[]\n",
        "show_step=35\n",
        "save_step=35"
      ]
    },
    {
      "cell_type": "code",
      "source": [
        "class Generator(nn.Module):\n",
        "  def __init__(self, z_dim=64, d_dim=16):\n",
        "    super(Generator, self).__init__()\n",
        "    self.z_dim=z_dim\n",
        "\n",
        "    self.gen = nn.Sequential(\n",
        "         \n",
        "            nn.ConvTranspose2d(z_dim, d_dim * 32, 4, 1, 0), \n",
        "            nn.BatchNorm2d(d_dim*32),\n",
        "            nn.ReLU(True),\n",
        "\n",
        "            nn.ConvTranspose2d(d_dim*32, d_dim*16, 4, 2, 1),\n",
        "            nn.BatchNorm2d(d_dim*16),\n",
        "            nn.ReLU(True),\n",
        "\n",
        "            nn.ConvTranspose2d(d_dim*16, d_dim*8, 4, 2, 1),\n",
        "            \n",
        "            nn.BatchNorm2d(d_dim*8),\n",
        "            nn.ReLU(True),\n",
        "\n",
        "            nn.ConvTranspose2d(d_dim*8, d_dim*4, 4, 2, 1),\n",
        "            nn.BatchNorm2d(d_dim*4),\n",
        "            nn.ReLU(True),            \n",
        "\n",
        "            nn.ConvTranspose2d(d_dim*4, d_dim*2, 4, 2, 1),\n",
        "            nn.BatchNorm2d(d_dim*2),\n",
        "            nn.ReLU(True),            \n",
        "\n",
        "            nn.ConvTranspose2d(d_dim*2, 3, 4, 2, 1),\n",
        "            nn.Tanh()\n",
        "    )\n",
        "\n",
        "\n",
        "  def forward(self, noise):\n",
        "    x=noise.view(len(noise), self.z_dim, 1, 1)\n",
        "    return self.gen(x)\n",
        "\n",
        "\n",
        "def gen_noise(num, z_dim, device='cuda'):\n",
        "   return torch.randn(num, z_dim, device=device)"
      ],
      "metadata": {
        "id": "utrKwL0rBIVi"
      },
      "execution_count": 2,
      "outputs": []
    },
    {
      "cell_type": "code",
      "source": [
        "class Critic(nn.Module):\n",
        "  def __init__(self, d_dim=16):\n",
        "    super(Critic, self).__init__()\n",
        "\n",
        "    self.crit = nn.Sequential(\n",
        " \n",
        "      nn.Conv2d(3, d_dim, 4, 2, 1),\n",
        "      nn.InstanceNorm2d(d_dim), \n",
        "      nn.LeakyReLU(0.2),\n",
        "\n",
        "      nn.Conv2d(d_dim, d_dim*2, 4, 2, 1), \n",
        "      nn.InstanceNorm2d(d_dim*2), \n",
        "      nn.LeakyReLU(0.2),\n",
        "\n",
        "      nn.Conv2d(d_dim*2, d_dim*4, 4, 2, 1), \n",
        "      nn.InstanceNorm2d(d_dim*4), \n",
        "      nn.LeakyReLU(0.2),\n",
        "              \n",
        "      nn.Conv2d(d_dim*4, d_dim*8, 4, 2, 1), \n",
        "      nn.InstanceNorm2d(d_dim*8), \n",
        "      nn.LeakyReLU(0.2),\n",
        "\n",
        "      nn.Conv2d(d_dim*8, d_dim*16, 4, 2, 1), \n",
        "      nn.InstanceNorm2d(d_dim*16), \n",
        "      nn.LeakyReLU(0.2),\n",
        "\n",
        "      nn.Conv2d(d_dim*16, 1, 4, 1, 0), \n",
        "\n",
        "    )\n",
        "\n",
        "\n",
        "  def forward(self, image):\n",
        "   \n",
        "    crit_pred = self.crit(image)\n",
        "    return crit_pred.view(len(crit_pred),-1)"
      ],
      "metadata": {
        "id": "HL56pxIBBaia"
      },
      "execution_count": 3,
      "outputs": []
    },
    {
      "cell_type": "code",
      "source": [],
      "metadata": {
        "id": "J0KhFEXlBypa"
      },
      "execution_count": null,
      "outputs": []
    }
  ]
}